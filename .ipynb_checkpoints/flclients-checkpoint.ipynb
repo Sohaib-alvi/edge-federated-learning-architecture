{
 "cells": [
  {
   "cell_type": "code",
   "execution_count": 14,
   "metadata": {
    "id": "VhrkPnumkCp8"
   },
   "outputs": [],
   "source": [
    "from fl_clientlib import *\n",
    "import matplotlib.pyplot as plt\n",
    "import seaborn as sns\n",
    "from sklearn.metrics import confusion_matrix\n",
    "from keras.models import model_from_json\n",
    "from keras.optimizers import Adam\n",
    "import datetime"
   ]
  },
  {
   "cell_type": "code",
   "execution_count": 15,
   "metadata": {
    "colab": {
     "base_uri": "https://localhost:8080/"
    },
    "id": "jTarac8obeGq",
    "outputId": "af0d64db-791a-4fd6-efcf-586c4b4c8717",
    "scrolled": true
   },
   "outputs": [
    {
     "name": "stdout",
     "output_type": "stream",
     "text": [
      "Enter image or dataframe.csv path\n",
      "C:/Users/ecourt/Desktop/Data Set\n",
      "['C:/Users/ecourt/Desktop/Data Set\\\\dataframe.csv']\n"
     ]
    }
   ],
   "source": [
    "img_path = input(\"Enter image or dataframe.csv path\\n\")\n",
    "data_frame = load(img_path, verbose=10000)"
   ]
  },
  {
   "cell_type": "code",
   "execution_count": 16,
   "metadata": {
    "colab": {
     "base_uri": "https://localhost:8080/",
     "height": 195
    },
    "id": "hik68rj-Yjq-",
    "outputId": "75f66701-4f1a-4803-9b59-bff641d4ceeb"
   },
   "outputs": [
    {
     "data": {
      "text/html": [
       "<div>\n",
       "<style scoped>\n",
       "    .dataframe tbody tr th:only-of-type {\n",
       "        vertical-align: middle;\n",
       "    }\n",
       "\n",
       "    .dataframe tbody tr th {\n",
       "        vertical-align: top;\n",
       "    }\n",
       "\n",
       "    .dataframe thead th {\n",
       "        text-align: right;\n",
       "    }\n",
       "</style>\n",
       "<table border=\"1\" class=\"dataframe\">\n",
       "  <thead>\n",
       "    <tr style=\"text-align: right;\">\n",
       "      <th></th>\n",
       "      <th>Unnamed: 0</th>\n",
       "      <th>Image</th>\n",
       "      <th>Covid</th>\n",
       "      <th>Normal</th>\n",
       "    </tr>\n",
       "  </thead>\n",
       "  <tbody>\n",
       "    <tr>\n",
       "      <th>0</th>\n",
       "      <td>0</td>\n",
       "      <td>C:/Users/ecourt/Desktop/Data Set\\0\\NORMAL (1).png</td>\n",
       "      <td>0.0</td>\n",
       "      <td>1.0</td>\n",
       "    </tr>\n",
       "    <tr>\n",
       "      <th>1</th>\n",
       "      <td>1</td>\n",
       "      <td>C:/Users/ecourt/Desktop/Data Set\\0\\NORMAL (10)...</td>\n",
       "      <td>0.0</td>\n",
       "      <td>1.0</td>\n",
       "    </tr>\n",
       "    <tr>\n",
       "      <th>2</th>\n",
       "      <td>2</td>\n",
       "      <td>C:/Users/ecourt/Desktop/Data Set\\0\\NORMAL (100...</td>\n",
       "      <td>0.0</td>\n",
       "      <td>1.0</td>\n",
       "    </tr>\n",
       "    <tr>\n",
       "      <th>3</th>\n",
       "      <td>3</td>\n",
       "      <td>C:/Users/ecourt/Desktop/Data Set\\0\\NORMAL (100...</td>\n",
       "      <td>0.0</td>\n",
       "      <td>1.0</td>\n",
       "    </tr>\n",
       "    <tr>\n",
       "      <th>4</th>\n",
       "      <td>4</td>\n",
       "      <td>C:/Users/ecourt/Desktop/Data Set\\0\\NORMAL (100...</td>\n",
       "      <td>0.0</td>\n",
       "      <td>1.0</td>\n",
       "    </tr>\n",
       "  </tbody>\n",
       "</table>\n",
       "</div>"
      ],
      "text/plain": [
       "   Unnamed: 0                                              Image  Covid  \\\n",
       "0           0  C:/Users/ecourt/Desktop/Data Set\\0\\NORMAL (1).png    0.0   \n",
       "1           1  C:/Users/ecourt/Desktop/Data Set\\0\\NORMAL (10)...    0.0   \n",
       "2           2  C:/Users/ecourt/Desktop/Data Set\\0\\NORMAL (100...    0.0   \n",
       "3           3  C:/Users/ecourt/Desktop/Data Set\\0\\NORMAL (100...    0.0   \n",
       "4           4  C:/Users/ecourt/Desktop/Data Set\\0\\NORMAL (100...    0.0   \n",
       "\n",
       "   Normal  \n",
       "0     1.0  \n",
       "1     1.0  \n",
       "2     1.0  \n",
       "3     1.0  \n",
       "4     1.0  "
      ]
     },
     "execution_count": 16,
     "metadata": {},
     "output_type": "execute_result"
    }
   ],
   "source": [
    "data_frame.head()"
   ]
  },
  {
   "cell_type": "code",
   "execution_count": 17,
   "metadata": {
    "colab": {
     "base_uri": "https://localhost:8080/",
     "height": 195
    },
    "id": "qy80sf-IdFMJ",
    "outputId": "b86f1d75-4a82-4a63-c44e-bccb375b165b"
   },
   "outputs": [
    {
     "data": {
      "text/html": [
       "<div>\n",
       "<style scoped>\n",
       "    .dataframe tbody tr th:only-of-type {\n",
       "        vertical-align: middle;\n",
       "    }\n",
       "\n",
       "    .dataframe tbody tr th {\n",
       "        vertical-align: top;\n",
       "    }\n",
       "\n",
       "    .dataframe thead th {\n",
       "        text-align: right;\n",
       "    }\n",
       "</style>\n",
       "<table border=\"1\" class=\"dataframe\">\n",
       "  <thead>\n",
       "    <tr style=\"text-align: right;\">\n",
       "      <th></th>\n",
       "      <th>Unnamed: 0</th>\n",
       "      <th>Image</th>\n",
       "      <th>Covid</th>\n",
       "      <th>Normal</th>\n",
       "    </tr>\n",
       "  </thead>\n",
       "  <tbody>\n",
       "    <tr>\n",
       "      <th>1555</th>\n",
       "      <td>1555</td>\n",
       "      <td>C:/Users/ecourt/Desktop/Data Set\\1\\COVID-19(21...</td>\n",
       "      <td>1.0</td>\n",
       "      <td>0.0</td>\n",
       "    </tr>\n",
       "    <tr>\n",
       "      <th>1556</th>\n",
       "      <td>1556</td>\n",
       "      <td>C:/Users/ecourt/Desktop/Data Set\\1\\COVID-19(21...</td>\n",
       "      <td>1.0</td>\n",
       "      <td>0.0</td>\n",
       "    </tr>\n",
       "    <tr>\n",
       "      <th>1557</th>\n",
       "      <td>1557</td>\n",
       "      <td>C:/Users/ecourt/Desktop/Data Set\\1\\COVID-19(21...</td>\n",
       "      <td>1.0</td>\n",
       "      <td>0.0</td>\n",
       "    </tr>\n",
       "    <tr>\n",
       "      <th>1558</th>\n",
       "      <td>1558</td>\n",
       "      <td>C:/Users/ecourt/Desktop/Data Set\\1\\COVID-19(21...</td>\n",
       "      <td>1.0</td>\n",
       "      <td>0.0</td>\n",
       "    </tr>\n",
       "    <tr>\n",
       "      <th>1559</th>\n",
       "      <td>1559</td>\n",
       "      <td>C:/Users/ecourt/Desktop/Data Set\\1\\COVID-19(21...</td>\n",
       "      <td>1.0</td>\n",
       "      <td>0.0</td>\n",
       "    </tr>\n",
       "  </tbody>\n",
       "</table>\n",
       "</div>"
      ],
      "text/plain": [
       "      Unnamed: 0                                              Image  Covid  \\\n",
       "1555        1555  C:/Users/ecourt/Desktop/Data Set\\1\\COVID-19(21...    1.0   \n",
       "1556        1556  C:/Users/ecourt/Desktop/Data Set\\1\\COVID-19(21...    1.0   \n",
       "1557        1557  C:/Users/ecourt/Desktop/Data Set\\1\\COVID-19(21...    1.0   \n",
       "1558        1558  C:/Users/ecourt/Desktop/Data Set\\1\\COVID-19(21...    1.0   \n",
       "1559        1559  C:/Users/ecourt/Desktop/Data Set\\1\\COVID-19(21...    1.0   \n",
       "\n",
       "      Normal  \n",
       "1555     0.0  \n",
       "1556     0.0  \n",
       "1557     0.0  \n",
       "1558     0.0  \n",
       "1559     0.0  "
      ]
     },
     "execution_count": 17,
     "metadata": {},
     "output_type": "execute_result"
    }
   ],
   "source": [
    "data_frame.tail()"
   ]
  },
  {
   "cell_type": "code",
   "execution_count": 18,
   "metadata": {
    "id": "Mmv2jYh2vEyA"
   },
   "outputs": [],
   "source": [
    "train_df, valid_df, test_df = \\\n",
    "              np.split(data_frame.sample(frac=1, random_state=42), \n",
    "                       [int(.8*len(data_frame)), int(.9*len(data_frame))])\n",
    "labels = ['Covid', 'Normal']"
   ]
  },
  {
   "cell_type": "code",
   "execution_count": 19,
   "metadata": {
    "colab": {
     "base_uri": "https://localhost:8080/",
     "height": 420
    },
    "id": "z3UzgBPQv2ni",
    "outputId": "96380aa3-2d14-4e52-ed52-cac08ebd4c7a"
   },
   "outputs": [
    {
     "name": "stdout",
     "output_type": "stream",
     "text": [
      "getting train generator...\n",
      "Found 1248 validated image filenames.\n",
      "getting train and valid generators...\n",
      "Found 1248 validated image filenames.\n",
      "Found 156 validated image filenames.\n",
      "Found 156 validated image filenames.\n",
      "(32, 32, 1)\n",
      "(32, 32, 1)\n"
     ]
    }
   ],
   "source": [
    "IMAGE_DIR = \"\"#To be replaced\n",
    "train_generator = get_train_generator(train_df, IMAGE_DIR, \"Image\", labels)\n",
    "valid_generator, test_generator= get_test_and_valid_generator(valid_df, test_df, train_df, IMAGE_DIR, \"Image\", labels)\n",
    "\n",
    "x, y = train_generator.__getitem__(0)\n",
    "v, w = valid_generator.__getitem__(0)\n",
    "print(v[0].shape)\n",
    "print(x[0].shape)"
   ]
  },
  {
   "cell_type": "code",
   "execution_count": 20,
   "metadata": {
    "colab": {
     "base_uri": "https://localhost:8080/",
     "height": 389
    },
    "id": "0pkta2bhwagl",
    "outputId": "de3dcb0b-5b10-45a3-f248-489b8e4ae62e"
   },
   "outputs": [
    {
     "name": "stdout",
     "output_type": "stream",
     "text": [
      "    Class     Label    Value\n",
      "0   Covid  Positive  0.11532\n",
      "1  Normal  Positive  0.11532\n",
      "2   Covid  Negative  0.11532\n",
      "3  Normal  Negative  0.11532\n"
     ]
    },
    {
     "data": {
      "image/png": "[encoded data removed]",
      "text/plain": [
       "<Figure size 432x288 with 1 Axes>"
      ]
     },
     "metadata": {
      "needs_background": "light"
     },
     "output_type": "display_data"
    }
   ],
   "source": [
    "freq_pos, freq_neg = compute_class_freqs(train_generator.labels)\n",
    "freq_pos\n",
    "\n",
    "data = pd.DataFrame({\"Class\": labels, \"Label\": \"Positive\", \"Value\": freq_pos})\n",
    "data = data.append([{\"Class\": labels[l], \"Label\": \"Negative\", \"Value\": v} for l,v in enumerate(freq_neg)], ignore_index=True)\n",
    "plt.xticks(rotation=90)\n",
    "f = sns.barplot(x=\"Class\", y=\"Value\", hue=\"Label\" ,data=data)\n",
    "\n",
    "pos_weights = freq_neg\n",
    "neg_weights = freq_pos\n",
    "pos_contribution = freq_pos * pos_weights \n",
    "neg_contribution = freq_neg * neg_weights\n",
    "\n",
    "data = pd.DataFrame({\"Class\": labels, \"Label\": \"Positive\", \"Value\": pos_contribution})\n",
    "data = data.append([{\"Class\": labels[l], \"Label\": \"Negative\", \"Value\": v} \n",
    "                        for l,v in enumerate(neg_contribution)], ignore_index=True)\n",
    "plt.xticks(rotation=90)\n",
    "sns.barplot(x=\"Class\", y=\"Value\", hue=\"Label\" ,data=data);\n",
    "print(data.head())"
   ]
  },
  {
   "cell_type": "code",
   "execution_count": 21,
   "metadata": {
    "id": "wM3HcpgfxOFq"
   },
   "outputs": [],
   "source": [
    "steps_per_epoch = train_generator.labels.shape[0]//train_generator.batch_size\n",
    "validation_steps = valid_generator.labels.shape[0]//valid_generator.batch_size"
   ]
  },
  {
   "cell_type": "code",
   "execution_count": 22,
   "metadata": {
    "id": "Nl2cF-85xlDp"
   },
   "outputs": [],
   "source": [
    "sio = socketio.Client()\n",
    "\n",
    "class Flnamespace(socketio.ClientNamespace):\n",
    "\n",
    "    def get_weighted_loss(self, pos_weights, neg_weights, epsilon=1e-7):\n",
    "        def weighted_loss(y_true, y_pred):\n",
    "            loss = 0.0\n",
    "            for i in range(len(pos_weights)):\n",
    "                # for each class, add average weighted loss for that class \n",
    "                loss += -(K.mean( pos_weights[i] * y_true[:,i] * K.log(y_pred[:,i] + epsilon) + \\\n",
    "                                    neg_weights[i] * (1 - y_true[:,i]) * K.log(1 - y_pred[:,i] + epsilon), axis = 0))\n",
    "            return loss\n",
    "        return weighted_loss\n",
    "\n",
    "    def train_model(self, server_packet):\n",
    "        model = server_packet[\"model\"]\n",
    "        n_round = server_packet[\"n_round\"]\n",
    "        if(n_round==1):\n",
    "            self.model = model_from_json(model)\n",
    "            self.model.compile(optimizer='adam', loss='categorical_crossentropy', metrics=['accuracy'])\n",
    "\n",
    "        else:\n",
    "            \n",
    "            model = pickle_string_to_obj(model)\n",
    "            print(len(model))\n",
    "            print(model[0].shape)\n",
    "            self.model.set_weights(model)\n",
    "            n_round = server_packet[\"n_round\"]\n",
    "            \n",
    "        \n",
    "        \n",
    "        print(\"Preparing to train model\")\n",
    "        \n",
    "        print(f\"===Round {n_round}===\")\n",
    "        start = datetime.datetime.now()\n",
    "        history = self.model.fit(train_generator, \n",
    "                              validation_data=valid_generator,\n",
    "                              steps_per_epoch = steps_per_epoch,#steps_per_epoch, \n",
    "                              validation_steps = validation_steps,#validation_steps, \n",
    "                              epochs = 3)\n",
    "\n",
    "        end = datetime.datetime.now()\n",
    "\n",
    "        c = end - start\n",
    "        minutes = divmod(c.seconds, 60)  \n",
    "        print('Training time: ', minutes[0], 'minutes', \n",
    "                                        minutes[1], 'seconds') \n",
    "\n",
    "        plt.plot(history.history['loss'])\n",
    "        plt.plot(history.history['val_loss'])\n",
    "        plt.legend([\"loss\", \"val_loss\"])\n",
    "        plt.xlabel(\"epoch\")\n",
    "        plt.title(\"Loss Curve\")\n",
    "        plt.show()\n",
    "\n",
    "        plt.plot(history.history['accuracy'])\n",
    "        plt.plot(history.history['val_accuracy'])\n",
    "        plt.legend([\"accuracy\", \"binary_accuracy\"])\n",
    "        plt.xlabel(\"epoch\")\n",
    "        plt.title(\"Accuracy Curve\")\n",
    "        plt.show()\n",
    "        \n",
    "        predicted_vals = self.model.predict(test_generator, steps = len(test_generator))\n",
    "    \n",
    "        cm = confusion_matrix(test_generator.labels[:,0], predicted_vals[:,0].round())\n",
    "        sns.heatmap(cm/np.sum(cm), annot = True, fmt='0.2%', cmap = 'Blues')\n",
    "\n",
    "    \n",
    "        weights = self.model.get_weights()\n",
    "        \n",
    "        score = self.model.evaluate(test_generator, verbose=0)\n",
    "        print(\"Model trained and new weights are being sent to server\")\n",
    "    \n",
    "    \n",
    "        sio.emit(\"complete_round\", {\"weights\": obj_to_pickle_string(weights), \"n_train\": train_generator.labels.shape[0], \"n_test\": test_generator.labels.shape[0], \"scores\": score, \"n_round\": n_round}, callback=self.train_model)\n",
    "\n",
    "    def on_connect(self):\n",
    "        print(\"Server connected\")\n",
    "        sio.emit(\"model_request\", {})\n",
    "\n",
    "    def on_sending_model(self, server_packet):\n",
    "        print(\"Client receiving model\")\n",
    "        self.train_model(server_packet)\n",
    "\n",
    "    def on_disconnect(self):\n",
    "        print(\"Server disconnected\")\n",
    "\n",
    "class Flclient():\n",
    "\n",
    "    def __init__(self):\n",
    "        \n",
    "        sio.register_namespace(Flnamespace())\n",
    "\n",
    "    def start(self, url):\n",
    "        sio.connect(url)\n",
    "        sio.wait()\n",
    "\n",
    "    def stop(self):\n",
    "        sio.disconnect()\n"
   ]
  },
  {
   "cell_type": "code",
   "execution_count": 23,
   "metadata": {
    "colab": {
     "base_uri": "https://localhost:8080/"
    },
    "id": "cqPRrhRByeoM",
    "outputId": "9f2da711-91d2-4f7b-a11f-634746eecdde"
   },
   "outputs": [
    {
     "name": "stdout",
     "output_type": "stream",
     "text": [
      "Enter the server's url\n",
      "http://127.0.0.1:5000\n"
     ]
    }
   ],
   "source": [
    "fl_client = Flclient()\n",
    "url = input(\"Enter the server's url\\n\")"
   ]
  },
  {
   "cell_type": "code",
   "execution_count": 24,
   "metadata": {},
   "outputs": [
    {
     "name": "stdout",
     "output_type": "stream",
     "text": [
      "Variance: 0.9999908804893494\n",
      "Standard deviation: 0.9999954104423523\n"
     ]
    }
   ],
   "source": [
    "pixels = x.flatten()\n",
    "flat_y = y.flatten()\n",
    "n_pix_per_im = x.shape[0]*x.shape[1]\n",
    "n = pixels.shape[0]\n",
    "pix_labels = [flat_y[i//n_pix_per_im] for i in range(n)]\n",
    "mean_x = np.mean(pixels)\n",
    "var_x = np.var(pixels)\n",
    "std_x = np.std(pixels)\n",
    "mean_y = np.mean(pix_labels)\n",
    "var_y = np.var(pix_labels)\n",
    "std_y = np.std(pix_labels)\n",
    "m = np.corrcoef(pixels, pix_labels)[0, 1]*std_y/std_x\n",
    "b = mean_y - m*mean_x\n",
    "print(f\"Variance: {var_x}\")\n",
    "print(f\"Standard deviation: {std_x}\")"
   ]
  },
  {
   "cell_type": "code",
   "execution_count": 25,
   "metadata": {},
   "outputs": [
    {
     "data": {
      "image/png": "[encoded data removed]",
      "text/plain": [
       "<Figure size 432x288 with 1 Axes>"
      ]
     },
     "metadata": {
      "needs_background": "light"
     },
     "output_type": "display_data"
    }
   ],
   "source": [
    "x_axis = np.linspace(0,1,100)\n",
    "y_axis = m*x_axis + b\n",
    "plt.plot(x_axis, y_axis, '-b', label=f'y={m}x+{b}')\n",
    "plt.title('Regression line')\n",
    "plt.xlabel('x', color='#1C2833')\n",
    "plt.ylabel('y', color='#1C2833')\n",
    "plt.legend(loc='upper left')\n",
    "plt.grid()\n",
    "plt.show()"
   ]
  },
  {
   "cell_type": "code",
   "execution_count": 26,
   "metadata": {},
   "outputs": [
    {
     "name": "stdout",
     "output_type": "stream",
     "text": [
      "Server connected\n",
      "Client receiving model\n",
      "Preparing to train model\n",
      "===Round 1===\n",
      "Epoch 1/3\n",
      "32/32 [==============================] - 80s 3s/step - loss: 0.4116 - accuracy: 0.8662 - val_loss: 0.2911 - val_accuracy: 0.9062\n",
      "Epoch 2/3\n",
      "32/32 [==============================] - 66s 2s/step - loss: 0.0971 - accuracy: 0.9752 - val_loss: 0.1791 - val_accuracy: 0.9375\n",
      "Epoch 3/3\n",
      "32/32 [==============================] - 52s 2s/step - loss: 0.1173 - accuracy: 0.9699 - val_loss: 0.1856 - val_accuracy: 0.9219\n",
      "Training time:  3 minutes 18 seconds\n"
     ]
    },
    {
     "data": {
      "image/png": "[encoded data removed]",
      "text/plain": [
       "<Figure size 432x288 with 1 Axes>"
      ]
     },
     "metadata": {
      "needs_background": "light"
     },
     "output_type": "display_data"
    },
    {
     "data": {
      "image/png": "[encoded data removed]",
      "text/plain": [
       "<Figure size 432x288 with 1 Axes>"
      ]
     },
     "metadata": {
      "needs_background": "light"
     },
     "output_type": "display_data"
    },
    {
     "name": "stdout",
     "output_type": "stream",
     "text": [
      "12\n",
      "(5, 5, 1, 60)\n",
      "Model trained and new weights are being sent to server\n",
      "Server disconnected\n"
     ]
    },
    {
     "data": {
      "image/png": "[encoded data removed]",
      "text/plain": [
       "<Figure size 432x288 with 2 Axes>"
      ]
     },
     "metadata": {
      "needs_background": "light"
     },
     "output_type": "display_data"
    }
   ],
   "source": [
    "fl_client.start(url)"
   ]
  },
  {
   "cell_type": "code",
   "execution_count": 14,
   "metadata": {
    "colab": {
     "base_uri": "https://localhost:8080/"
    },
    "id": "pfZ8I3k0yzQV",
    "outputId": "6f1d8a6a-3657-4ba9-bcd0-e18021c79368"
   },
   "outputs": [],
   "source": [
    "fl_client.stop()"
   ]
  },
  {
   "cell_type": "code",
   "execution_count": null,
   "metadata": {},
   "outputs": [],
   "source": []
  }
 ],
 "metadata": {
  "accelerator": "GPU",
  "colab": {
   "collapsed_sections": [],
   "name": "flclients.ipynb",
   "provenance": []
  },
  "kernelspec": {
   "display_name": "Python 3",
   "language": "python",
   "name": "python3"
  },
  "language_info": {
   "codemirror_mode": {
    "name": "ipython",
    "version": 3
   },
   "file_extension": ".py",
   "mimetype": "text/x-python",
   "name": "python",
   "nbconvert_exporter": "python",
   "pygments_lexer": "ipython3",
   "version": "3.7.9"
  }
 },
 "nbformat": 4,
 "nbformat_minor": 4
}
